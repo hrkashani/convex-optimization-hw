{
  "cells": [
    {
      "cell_type": "code",
      "execution_count": 1,
      "metadata": {
        "id": "GZHmpz9U2fk4"
      },
      "outputs": [],
      "source": [
        "import numpy as np\n",
        "\n",
        "rng = np.random.Generator(np.random.MT19937(seed=12345))\n",
        "n = 20\n",
        "# _A and _C are internal - you don't need them.\n",
        "_A = rng.standard_normal((2*n, n))\n",
        "_C = np.diag(0.5*np.exp(rng.standard_normal((n,))))\n",
        "\n",
        "Sigma = _C@_A.T@_A@_C\n",
        "Sigma = 0.5*(Sigma + Sigma.T)\n",
        "M = np.ones(n)*0.2\n",
        "M = M.reshape((n,1))\n",
        "sigma = np.sqrt(np.diag(Sigma))\n",
        "\n",
        "# USE THE FOLLOWING CODE TO PLOT YOUR SOLUTION\n",
        "# Replace x_max_divers and x_min_variance with your optimal values\n",
        "# import matplotlib.pyplot as plt\n",
        "# plt.bar(np.arange(0,20), x_max_divers, width=0.5, label=\"Max diversification\")\n",
        "# plt.bar((np.arange(0,20)*2+1)/2,   x_min_variance, width=0.5, label=\"Min variance\")\n",
        "# plt.legend()"
      ]
    },
    {
      "cell_type": "code",
      "execution_count": 2,
      "metadata": {
        "colab": {
          "base_uri": "https://localhost:8080/"
        },
        "id": "y1HIbeXe3Pog",
        "outputId": "c1fb03db-4155-4e1f-b260-80b8b7d92ce1"
      },
      "outputs": [
        {
          "data": {
            "text/plain": [
              "(20, 20)"
            ]
          },
          "execution_count": 2,
          "metadata": {},
          "output_type": "execute_result"
        }
      ],
      "source": [
        "Sigma.shape"
      ]
    },
    {
      "cell_type": "code",
      "execution_count": 2,
      "metadata": {
        "colab": {
          "base_uri": "https://localhost:8080/"
        },
        "id": "BPJFgQkS2-MZ",
        "outputId": "67b842fb-bf24-4469-dabf-01ba84a633d8"
      },
      "outputs": [
        {
          "data": {
            "text/plain": [
              "0.015196299032163392"
            ]
          },
          "execution_count": 2,
          "metadata": {},
          "output_type": "execute_result"
        }
      ],
      "source": [
        "import cvxpy as cp\n",
        "import numpy as np\n",
        "import matplotlib.pyplot as plt\n",
        "\n",
        "Y = cp.Variable((n,1))\n",
        "K = cp.Variable(1)\n",
        "objective = cp.Minimize(cp.quad_form(Y,Sigma))\n",
        "constraints = [Y.T@sigma == np.ones((1,n)), Y >= 0, Y <= K*M, Y.T@np.ones((n,1)) == K]\n",
        "problem = cp.Problem(objective, constraints)\n",
        "result = problem.solve()\n",
        "result\n",
        "\n"
      ]
    },
    {
      "cell_type": "code",
      "execution_count": 4,
      "metadata": {
        "colab": {
          "base_uri": "https://localhost:8080/"
        },
        "id": "q2F_bsIt11Iv",
        "outputId": "5b4f4a6a-2940-4f2c-dfab-6e71bf6caa56"
      },
      "outputs": [
        {
          "name": "stdout",
          "output_type": "stream",
          "text": [
            "xstar is:\n"
          ]
        },
        {
          "data": {
            "text/plain": [
              "array([[ 1.61442967e-01],\n",
              "       [ 6.33404894e-03],\n",
              "       [ 7.56749669e-03],\n",
              "       [ 1.42368665e-02],\n",
              "       [-2.47218764e-23],\n",
              "       [ 2.50669561e-02],\n",
              "       [ 4.36505902e-02],\n",
              "       [ 3.44926390e-02],\n",
              "       [ 5.48345805e-02],\n",
              "       [ 5.23762883e-02],\n",
              "       [ 1.19435437e-02],\n",
              "       [ 1.92522745e-02],\n",
              "       [ 2.13735383e-24],\n",
              "       [ 6.77772557e-02],\n",
              "       [ 8.69154551e-02],\n",
              "       [ 4.11010175e-02],\n",
              "       [ 8.92239359e-03],\n",
              "       [ 5.50812555e-02],\n",
              "       [ 1.09004371e-01],\n",
              "       [ 2.00000000e-01]])"
            ]
          },
          "execution_count": 4,
          "metadata": {},
          "output_type": "execute_result"
        }
      ],
      "source": [
        "print('xstar is:')\n",
        "Y.value/K.value"
      ]
    },
    {
      "cell_type": "code",
      "execution_count": 17,
      "metadata": {
        "colab": {
          "base_uri": "https://localhost:8080/"
        },
        "id": "slgRvhQE7AaG",
        "outputId": "7738e0e3-12c9-4519-a273-61d6a249247c"
      },
      "outputs": [
        {
          "data": {
            "text/plain": [
              "0.07170611104541917"
            ]
          },
          "execution_count": 17,
          "metadata": {},
          "output_type": "execute_result"
        }
      ],
      "source": [
        "X = cp.Variable((n,1))\n",
        "objective = cp.Minimize(cp.quad_form(X,Sigma))\n",
        "constraints = [ X >= 0, X <= M, X.T@np.ones(n) == 1]\n",
        "problem = cp.Problem(objective, constraints)\n",
        "result = problem.solve()\n",
        "result\n"
      ]
    },
    {
      "cell_type": "code",
      "execution_count": 19,
      "metadata": {
        "colab": {
          "base_uri": "https://localhost:8080/"
        },
        "id": "qlOyxDJC8Zvn",
        "outputId": "010417b3-f4f0-4407-fc4e-1c518a4f9b5b"
      },
      "outputs": [
        {
          "data": {
            "text/plain": [
              "array([[6.51872059]])"
            ]
          },
          "execution_count": 19,
          "metadata": {},
          "output_type": "execute_result"
        }
      ],
      "source": [
        "D = (sigma @ X.value) / (np.sqrt(X.value.T @ Sigma @ X.value))\n",
        "D"
      ]
    },
    {
      "cell_type": "code",
      "execution_count": 21,
      "metadata": {
        "colab": {
          "base_uri": "https://localhost:8080/"
        },
        "id": "VMHdoLZN-Fnz",
        "outputId": "e17c06c8-0ba7-4b1c-f72d-a7f5974bdeda"
      },
      "outputs": [
        {
          "data": {
            "text/plain": [
              "array([[8.1120587]])"
            ]
          },
          "execution_count": 21,
          "metadata": {},
          "output_type": "execute_result"
        }
      ],
      "source": [
        "D = (sigma @ Y.value/K.value) / (np.sqrt((Y.value.T)/K.value @ Sigma @ (Y.value)/K.value))\n",
        "D"
      ]
    },
    {
      "cell_type": "code",
      "execution_count": 27,
      "metadata": {
        "colab": {
          "base_uri": "https://localhost:8080/",
          "height": 468
        },
        "id": "HLfeQFJt-8xR",
        "outputId": "943d1ccb-8da5-46ee-dac1-330fc4c99593"
      },
      "outputs": [
        {
          "name": "stderr",
          "output_type": "stream",
          "text": [
            "WARNING:matplotlib.legend:No artists with labels found to put in legend.  Note that artists whose label start with an underscore are ignored when legend() is called with no argument.\n"
          ]
        },
        {
          "data": {
            "image/png": "[encoded data removed]",
            "text/plain": [
              "<Figure size 640x480 with 1 Axes>"
            ]
          },
          "metadata": {},
          "output_type": "display_data"
        }
      ],
      "source": [
        "plt.bar(range(1, 21), (Y.value.reshape(n))/K.value)\n",
        "plt.bar(range(1, 21), X.value.reshape(n))\n",
        "plt.legend()\n",
        "plt.show()"
      ]
    }
  ],
  "metadata": {
    "colab": {
      "provenance": []
    },
    "kernelspec": {
      "display_name": "Python 3",
      "name": "python3"
    },
    "language_info": {
      "name": "python"
    }
  },
  "nbformat": 4,
  "nbformat_minor": 0
}
