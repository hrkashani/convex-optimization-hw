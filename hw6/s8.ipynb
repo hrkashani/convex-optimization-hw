{
 "cells": [
  {
   "cell_type": "code",
   "execution_count": 4,
   "metadata": {},
   "outputs": [],
   "source": [
    "import numpy as np\n",
    "n = 10 # number of variables\n",
    "k = 6  # number of designs\n",
    "\n",
    "# component widths from known designas\n",
    "# each column of W is a different design\n",
    "W =([[ 1.8381,  1.5803, 12.4483,  4.4542,  6.5637,  5.8225],\n",
    "    [ 1.0196,  3.0467, 18.4965,  3.6186,  7.6979,  2.3292],\n",
    "    [ 1.6813,  1.9083, 17.3244,  4.677 ,  4.6581, 27.0291],\n",
    "    [ 1.3795,  2.625 , 14.6737,  4.1361,  7.161 ,  7.5759],\n",
    "    [ 1.8318,  1.4526, 17.2696,  3.7408,  2.2107, 10.3642],\n",
    "    [ 1.5028,  3.0937, 14.9034,  4.4055,  7.8582, 20.5204],\n",
    "    [ 1.7095,  2.1351, 10.1296,  4.0931,  2.9001,  9.9634],\n",
    "    [ 1.4289,  3.58  ,  9.3459,  3.8898,  2.7663, 15.1383],\n",
    "    [ 1.3046,  3.561 , 10.1179,  4.3891,  7.1302,  3.8139],\n",
    "    [ 1.1897,  2.7807, 13.0112,  4.2426,  6.1611, 29.6734]])\n",
    "W = np.array(W)\n",
    "\n",
    "(W_min, W_max) = (1.0, 30.0)\n",
    "\n",
    "# objective values for the different designs\n",
    "# entry j gives the objective for design j\n",
    "P = np.array([ 29.0148,  46.3369, 282.1749,  78.5183, 104.8087, 253.5439])\n",
    "D = np.array([15.9522, 11.5012,  4.8148,  8.5697,  8.087 ,  6.0273])\n",
    "A = np.array([ 22.3796,  38.7908, 204.1574,  62.5563,  81.2272, 200.5119])\n",
    "\n",
    "# specifications\n",
    "(P_spec, D_spec, A_spec) = (60.0, 10.0, 50.0)"
   ]
  },
  {
   "cell_type": "code",
   "execution_count": 8,
   "metadata": {},
   "outputs": [
    {
     "name": "stderr",
     "output_type": "stream",
     "text": [
      "c:\\Users\\Latitude 5289 2-in-1\\AppData\\Local\\Programs\\Python\\Python310\\lib\\site-packages\\cvxpy\\expressions\\expression.py:612: UserWarning: \n",
      "This use of ``*`` has resulted in matrix multiplication.\n",
      "Using ``*`` for matrix multiplication has been deprecated since CVXPY 1.1.\n",
      "    Use ``*`` for matrix-scalar and vector-scalar multiplication.\n",
      "    Use ``@`` for matrix-matrix and matrix-vector multiplication.\n",
      "    Use ``multiply`` for elementwise multiplication.\n",
      "This code path has been hit 10 times so far.\n",
      "\n",
      "  warnings.warn(msg, UserWarning)\n",
      "c:\\Users\\Latitude 5289 2-in-1\\AppData\\Local\\Programs\\Python\\Python310\\lib\\site-packages\\cvxpy\\expressions\\expression.py:612: UserWarning: \n",
      "This use of ``*`` has resulted in matrix multiplication.\n",
      "Using ``*`` for matrix multiplication has been deprecated since CVXPY 1.1.\n",
      "    Use ``*`` for matrix-scalar and vector-scalar multiplication.\n",
      "    Use ``@`` for matrix-matrix and matrix-vector multiplication.\n",
      "    Use ``multiply`` for elementwise multiplication.\n",
      "This code path has been hit 11 times so far.\n",
      "\n",
      "  warnings.warn(msg, UserWarning)\n",
      "c:\\Users\\Latitude 5289 2-in-1\\AppData\\Local\\Programs\\Python\\Python310\\lib\\site-packages\\cvxpy\\expressions\\expression.py:612: UserWarning: \n",
      "This use of ``*`` has resulted in matrix multiplication.\n",
      "Using ``*`` for matrix multiplication has been deprecated since CVXPY 1.1.\n",
      "    Use ``*`` for matrix-scalar and vector-scalar multiplication.\n",
      "    Use ``@`` for matrix-matrix and matrix-vector multiplication.\n",
      "    Use ``multiply`` for elementwise multiplication.\n",
      "This code path has been hit 12 times so far.\n",
      "\n",
      "  warnings.warn(msg, UserWarning)\n"
     ]
    },
    {
     "data": {
      "text/plain": [
       "array([0.09623923, 0.17187906, 0.20293551, 0.15906779, 0.16556333,\n",
       "       0.20431508])"
      ]
     },
     "execution_count": 8,
     "metadata": {},
     "output_type": "execute_result"
    }
   ],
   "source": [
    "import cvxpy as cp\n",
    "\n",
    "teta = cp.Variable(k)\n",
    "\n",
    "cons = [\n",
    "    np.log(P)*teta<=P_spec ,\n",
    "    np.log(D)*teta<=D_spec ,\n",
    "    np.log(A)*teta<=A_spec ,\n",
    "    cp.sum(teta)==1,\n",
    "    teta>=0\n",
    "]\n",
    "prob = cp.Problem(cp.Minimize(0),cons)\n",
    "result = prob.solve()\n",
    "teta.value"
   ]
  },
  {
   "cell_type": "code",
   "execution_count": 13,
   "metadata": {},
   "outputs": [
    {
     "data": {
      "text/plain": [
       "0.9999999999999994"
      ]
     },
     "execution_count": 13,
     "metadata": {},
     "output_type": "execute_result"
    }
   ],
   "source": [
    "np.sum(teta.value)"
   ]
  },
  {
   "cell_type": "code",
   "execution_count": 15,
   "metadata": {},
   "outputs": [
    {
     "data": {
      "text/plain": [
       "array([4.7495252 , 4.48467912, 6.77745786, 5.51483229, 4.57012598,\n",
       "       7.2143954 , 4.58150106, 5.19038935, 4.69993417, 6.93644172])"
      ]
     },
     "execution_count": 15,
     "metadata": {},
     "output_type": "execute_result"
    }
   ],
   "source": [
    "w=np.exp(np.log(W)@teta.value)\n",
    "w"
   ]
  }
 ],
 "metadata": {
  "kernelspec": {
   "display_name": "Python 3",
   "language": "python",
   "name": "python3"
  },
  "language_info": {
   "codemirror_mode": {
    "name": "ipython",
    "version": 3
   },
   "file_extension": ".py",
   "mimetype": "text/x-python",
   "name": "python",
   "nbconvert_exporter": "python",
   "pygments_lexer": "ipython3",
   "version": "3.10.5"
  },
  "orig_nbformat": 4
 },
 "nbformat": 4,
 "nbformat_minor": 2
}
