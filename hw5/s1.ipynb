{
  "nbformat": 4,
  "nbformat_minor": 0,
  "metadata": {
    "colab": {
      "provenance": []
    },
    "kernelspec": {
      "name": "python3",
      "display_name": "Python 3"
    },
    "language_info": {
      "name": "python"
    }
  },
  "cells": [
    {
      "cell_type": "markdown",
      "source": [
        "Import dependencies"
      ],
      "metadata": {
        "id": "hRdEoXFZWlvr"
      }
    },
    {
      "cell_type": "code",
      "execution_count": 1,
      "metadata": {
        "id": "Xn0CO08jwJQ8"
      },
      "outputs": [],
      "source": [
        "import cvxpy as cvx\n",
        "import numpy as np\n",
        "import matplotlib.pyplot as plt\n",
        "\n",
        "np.random.seed(0)\n",
        "(m, n) = (100, 30)\n",
        "A = np.random.randn(m, n)\n",
        "A = np.asmatrix(A)\n",
        "B = np.random.randn(m, 1)\n",
        "B = np.asmatrix(B)"
      ]
    },
    {
      "cell_type": "markdown",
      "source": [
        "L1.5 problem"
      ],
      "metadata": {
        "id": "HsuifsWZyqPE"
      }
    },
    {
      "cell_type": "code",
      "source": [
        "X = cvx.Variable(n)\n",
        "X = cvx.reshape(X, (n, 1))\n",
        "S = cvx.Variable(m)\n",
        "S = cvx.reshape(S, (m, 1))\n",
        "constraints = [S >= cvx.abs(A*X-B)]\n",
        "objective = cvx.Minimize(cvx.atoms.pnorm(S, 3/2))\n",
        "cvx.Problem(objective, constraints).solve()\n",
        "X_1 = X.value"
      ],
      "metadata": {
        "colab": {
          "base_uri": "https://localhost:8080/"
        },
        "id": "j4HG6akPypKQ",
        "outputId": "a51ec2c4-339e-47f4-e0dc-c82d4aa00d94"
      },
      "execution_count": 11,
      "outputs": [
        {
          "output_type": "stream",
          "name": "stderr",
          "text": [
            "/usr/local/lib/python3.9/dist-packages/cvxpy/expressions/expression.py:612: UserWarning: \n",
            "This use of ``*`` has resulted in matrix multiplication.\n",
            "Using ``*`` for matrix multiplication has been deprecated since CVXPY 1.1.\n",
            "    Use ``*`` for matrix-scalar and vector-scalar multiplication.\n",
            "    Use ``@`` for matrix-matrix and matrix-vector multiplication.\n",
            "    Use ``multiply`` for elementwise multiplication.\n",
            "This code path has been hit 7 times so far.\n",
            "\n",
            "  warnings.warn(msg, UserWarning)\n"
          ]
        }
      ]
    },
    {
      "cell_type": "markdown",
      "source": [
        "Optimality condition"
      ],
      "metadata": {
        "id": "8iT9Sy_qWy2G"
      }
    },
    {
      "cell_type": "code",
      "source": [
        "r = A*X_1-B\n",
        "print(A.T*(3/2*(np.multiply(np.sign(r), np.sqrt(np.abs(r))))).)"
      ],
      "metadata": {
        "colab": {
          "base_uri": "https://localhost:8080/"
        },
        "id": "yn7zO2_NGZfp",
        "outputId": "6c064510-b1b6-402c-c4f6-0fd383effb94"
      },
      "execution_count": 23,
      "outputs": [
        {
          "output_type": "stream",
          "name": "stdout",
          "text": [
            "[[ 2.17020001e-05]\n",
            " [ 1.81150764e-06]\n",
            " [-5.71875248e-05]\n",
            " [ 2.41465002e-05]\n",
            " [-2.60778537e-05]\n",
            " [-1.33809477e-05]\n",
            " [ 3.28865837e-05]\n",
            " [-2.34946804e-05]\n",
            " [ 3.98717338e-05]\n",
            " [ 2.17459981e-05]\n",
            " [ 7.89068559e-06]\n",
            " [ 1.10570560e-05]\n",
            " [-5.34035727e-05]\n",
            " [-5.87944043e-05]\n",
            " [ 1.05647281e-05]\n",
            " [ 2.85703599e-05]\n",
            " [ 3.59788917e-06]\n",
            " [-2.21353124e-05]\n",
            " [ 6.75410090e-06]\n",
            " [ 5.04662887e-06]\n",
            " [-2.63698678e-05]\n",
            " [ 3.24158033e-05]\n",
            " [-6.02100705e-05]\n",
            " [ 1.76534563e-05]\n",
            " [ 1.52692073e-05]\n",
            " [ 1.13033494e-05]\n",
            " [-2.74576922e-05]\n",
            " [ 1.17216985e-05]\n",
            " [ 5.74950161e-05]\n",
            " [ 2.57563623e-05]]\n"
          ]
        }
      ]
    },
    {
      "cell_type": "markdown",
      "source": [
        "L2 problem"
      ],
      "metadata": {
        "id": "jolSeGs_KmxW"
      }
    },
    {
      "cell_type": "code",
      "source": [
        "X_L2 = cvx.Variable(n)\n",
        "X_L2 = cvx.reshape(X, (n, 1))\n",
        "objective = cvx.Minimize(cvx.atoms.pnorm(A*X_L2-B, 2))\n",
        "cvx.Problem(objective, constraints).solve()\n",
        "X_l2 = X_L2.value"
      ],
      "metadata": {
        "colab": {
          "base_uri": "https://localhost:8080/"
        },
        "id": "aoWoDvK4Kolj",
        "outputId": "b82820c8-7d0f-4447-8c7b-04cc00139157"
      },
      "execution_count": 41,
      "outputs": [
        {
          "output_type": "stream",
          "name": "stderr",
          "text": [
            "/usr/local/lib/python3.9/dist-packages/cvxpy/expressions/expression.py:612: UserWarning: \n",
            "This use of ``*`` has resulted in matrix multiplication.\n",
            "Using ``*`` for matrix multiplication has been deprecated since CVXPY 1.1.\n",
            "    Use ``*`` for matrix-scalar and vector-scalar multiplication.\n",
            "    Use ``@`` for matrix-matrix and matrix-vector multiplication.\n",
            "    Use ``multiply`` for elementwise multiplication.\n",
            "This code path has been hit 12 times so far.\n",
            "\n",
            "  warnings.warn(msg, UserWarning)\n"
          ]
        }
      ]
    },
    {
      "cell_type": "markdown",
      "source": [
        "L1 problem"
      ],
      "metadata": {
        "id": "1-ZGiL6YK9Im"
      }
    },
    {
      "cell_type": "code",
      "source": [
        "X_L1 = cvx.Variable(n)\n",
        "X_L1 = cvx.reshape(X, (n, 1))\n",
        "objective = cvx.Minimize(cvx.atoms.pnorm(A*X_L1-B, 1))\n",
        "cvx.Problem(objective, constraints).solve()\n",
        "X_3 = X_L1.value"
      ],
      "metadata": {
        "colab": {
          "base_uri": "https://localhost:8080/"
        },
        "id": "qvgSuyvgK-XG",
        "outputId": "30347969-277e-4cd4-a246-62c4b69cebd0"
      },
      "execution_count": 42,
      "outputs": [
        {
          "output_type": "stream",
          "name": "stderr",
          "text": [
            "/usr/local/lib/python3.9/dist-packages/cvxpy/expressions/expression.py:612: UserWarning: \n",
            "This use of ``*`` has resulted in matrix multiplication.\n",
            "Using ``*`` for matrix multiplication has been deprecated since CVXPY 1.1.\n",
            "    Use ``*`` for matrix-scalar and vector-scalar multiplication.\n",
            "    Use ``@`` for matrix-matrix and matrix-vector multiplication.\n",
            "    Use ``multiply`` for elementwise multiplication.\n",
            "This code path has been hit 13 times so far.\n",
            "\n",
            "  warnings.warn(msg, UserWarning)\n"
          ]
        }
      ]
    },
    {
      "cell_type": "markdown",
      "source": [
        "Residuals"
      ],
      "metadata": {
        "id": "i-5AQbBoLoOR"
      }
    },
    {
      "cell_type": "code",
      "source": [
        "r = A*X_1-B\n",
        "rL2 = A*X_l2 -B\n",
        "rL1 = A*X_3 - B\n"
      ],
      "metadata": {
        "id": "AleANaPlLorA"
      },
      "execution_count": 43,
      "outputs": []
    },
    {
      "cell_type": "markdown",
      "source": [
        "Figures"
      ],
      "metadata": {
        "id": "MeMwb4MdMgm1"
      }
    },
    {
      "cell_type": "code",
      "source": [
        "plt.figure(1)\n",
        "plt.subplot(311)\n",
        "plt.hist(r)\n",
        "plt.subplot(312)\n",
        "plt.hist(rL2)\n",
        "plt.subplot(313)\n",
        "plt.hist(rL1)\n",
        "plt.show()"
      ],
      "metadata": {
        "colab": {
          "base_uri": "https://localhost:8080/",
          "height": 430
        },
        "id": "k-5MIi8wMhJA",
        "outputId": "525a68b8-38bb-4117-a2c1-1a467b75a637"
      },
      "execution_count": 44,
      "outputs": [
        {
          "output_type": "display_data",
          "data": {
            "text/plain": [
              "<Figure size 640x480 with 3 Axes>"
            ],
            "image/png": "[encoded data removed]"
          },
          "metadata": {}
        }
      ]
    }
  ]
}