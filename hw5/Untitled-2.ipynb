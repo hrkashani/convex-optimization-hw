{
 "cells": [
  {
   "cell_type": "code",
   "execution_count": 1,
   "metadata": {},
   "outputs": [],
   "source": [
    "import numpy as np\n",
    "\n",
    "np.random.seed(16)\n",
    "\n",
    "m = 10\n",
    "n = 20\n",
    "p = 0.2\n",
    "\n",
    "x = np.random.rand(m, 2)\n",
    "y = np.random.rand(n, 2)\n",
    "Omega = np.random.rand(m, n) > p\n",
    "Omega[0, 0] = False\n",
    "A = (x @ y.T) * Omega\n"
   ]
  },
  {
   "cell_type": "code",
   "execution_count": 7,
   "metadata": {},
   "outputs": [
    {
     "name": "stderr",
     "output_type": "stream",
     "text": [
      "c:\\Users\\Latitude 5289 2-in-1\\AppData\\Local\\Programs\\Python\\Python310\\lib\\site-packages\\cvxpy\\expressions\\expression.py:612: UserWarning: \n",
      "This use of ``*`` has resulted in matrix multiplication.\n",
      "Using ``*`` for matrix multiplication has been deprecated since CVXPY 1.1.\n",
      "    Use ``*`` for matrix-scalar and vector-scalar multiplication.\n",
      "    Use ``@`` for matrix-matrix and matrix-vector multiplication.\n",
      "    Use ``multiply`` for elementwise multiplication.\n",
      "This code path has been hit 9 times so far.\n",
      "\n",
      "  warnings.warn(msg, UserWarning)\n",
      "c:\\Users\\Latitude 5289 2-in-1\\AppData\\Local\\Programs\\Python\\Python310\\lib\\site-packages\\cvxpy\\expressions\\expression.py:612: UserWarning: \n",
      "This use of ``*`` has resulted in matrix multiplication.\n",
      "Using ``*`` for matrix multiplication has been deprecated since CVXPY 1.1.\n",
      "    Use ``*`` for matrix-scalar and vector-scalar multiplication.\n",
      "    Use ``@`` for matrix-matrix and matrix-vector multiplication.\n",
      "    Use ``multiply`` for elementwise multiplication.\n",
      "This code path has been hit 10 times so far.\n",
      "\n",
      "  warnings.warn(msg, UserWarning)\n",
      "c:\\Users\\Latitude 5289 2-in-1\\AppData\\Local\\Programs\\Python\\Python310\\lib\\site-packages\\cvxpy\\expressions\\expression.py:612: UserWarning: \n",
      "This use of ``*`` has resulted in matrix multiplication.\n",
      "Using ``*`` for matrix multiplication has been deprecated since CVXPY 1.1.\n",
      "    Use ``*`` for matrix-scalar and vector-scalar multiplication.\n",
      "    Use ``@`` for matrix-matrix and matrix-vector multiplication.\n",
      "    Use ``multiply`` for elementwise multiplication.\n",
      "This code path has been hit 11 times so far.\n",
      "\n",
      "  warnings.warn(msg, UserWarning)\n"
     ]
    }
   ],
   "source": [
    "import numpy as np\n",
    "import cvxpy as cp\n",
    "\n",
    "# converting zero elements of A to one to prevent log(0) in the objective!\n",
    "A += np.ones((m,n)) - Omega\n",
    "u = cp.Variable(m)\n",
    "u = cp.reshape(u,(m,1))\n",
    "v = cp.Variable(n)\n",
    "v = cp.reshape(v,(n,1))\n",
    "constraints = [ np.ones((1,m))*u == 0 ]\n",
    "B = cp.exp( cp.abs( u*np.ones((1,n)) + np.ones((m,1))*v.T - cp.log(A) ) )\n",
    "f = 0\n",
    "for i in range(m):\n",
    "    for j in range(n):\n",
    "        f += Omega[i,j]*B[i,j]\n",
    "obj = cp.Minimize(f)\n",
    "prob = cp.Problem(obj, constraints)\n",
    "prob.solve(solver = cp.SCS)\n",
    "x_tilde = np.exp(u.value)\n",
    "y_tilde = np.exp(v.value)\n",
    "x = x_tilde / sum(x_tilde)\n",
    "y = np.sum(x_tilde) * y_tilde\n",
    "rel_dev_opt = (prob.value - sum(sum(Omega))) / m / n\n",
    "print('The optimal average relative deviation = ', rel_dev_opt)\n",
    "A_11 = x[0,0] * y[0,0]\n",
    "print('A_11 = ', A_11)"
   ]
  }
 ],
 "metadata": {
  "kernelspec": {
   "display_name": "Python 3",
   "language": "python",
   "name": "python3"
  },
  "language_info": {
   "codemirror_mode": {
    "name": "ipython",
    "version": 3
   },
   "file_extension": ".py",
   "mimetype": "text/x-python",
   "name": "python",
   "nbconvert_exporter": "python",
   "pygments_lexer": "ipython3",
   "version": "3.10.5"
  },
  "orig_nbformat": 4
 },
 "nbformat": 4,
 "nbformat_minor": 2
}
