{
 "cells": [
  {
   "cell_type": "code",
   "execution_count": 2,
   "metadata": {},
   "outputs": [],
   "source": [
    "import numpy as np\n",
    "from scipy.sparse import csr_matrix\n",
    "from scipy.special import log_ndtr\n",
    "\n",
    "\n",
    "n = 10\n",
    "m = 45\n",
    "m_test = 45\n",
    "sigma = 0.25\n",
    "\n",
    "train = np.array([\n",
    "    [1, 2, 1],\n",
    "    [1, 3, 1],\n",
    "    [1, 4, 1],\n",
    "    [1, 5, 1],\n",
    "    [1, 6, 1],\n",
    "    [1, 7, 1],\n",
    "    [1, 8, 1],\n",
    "    [1, 9, 1],\n",
    "    [1, 10, 1],\n",
    "    [2, 3, -1],\n",
    "    [2, 4, -1],\n",
    "    [2, 5, -1],\n",
    "    [2, 6, -1],\n",
    "    [2, 7, -1],\n",
    "    [2, 8, -1],\n",
    "    [2, 9, -1],\n",
    "    [2, 10, -1],\n",
    "    [3, 4, 1],\n",
    "    [3, 5, -1],\n",
    "    [3, 6, -1],\n",
    "    [3, 7, 1],\n",
    "    [3, 8, 1],\n",
    "    [3, 9, 1],\n",
    "    [3, 10, 1],\n",
    "    [4, 5, -1],\n",
    "    [4, 6, -1],\n",
    "    [4, 7, 1],\n",
    "    [4, 8, 1],\n",
    "    [4, 9, -1],\n",
    "    [4, 10, -1],\n",
    "    [5, 6, 1],\n",
    "    [5, 7, 1],\n",
    "    [5, 8, 1],\n",
    "    [5, 9, -1],\n",
    "    [5, 10, 1],\n",
    "    [6, 7, 1],\n",
    "    [6, 8, 1],\n",
    "    [6, 9, -1],\n",
    "    [6, 10, -1],\n",
    "    [7, 8, 1],\n",
    "    [7, 9, 1],\n",
    "    [7, 10, -1],\n",
    "    [8, 9, -1],\n",
    "    [8, 10, -1],\n",
    "    [9, 10, 1]\n",
    "])\n",
    "\n",
    "test = np.array([[1, 2, 1],\n",
    "                 [1, 3, 1],\n",
    "                 [1, 4, 1],\n",
    "                 [1, 5, 1],\n",
    "                 [1, 6, 1],\n",
    "                 [1, 7, 1],\n",
    "                 [1, 8, 1],\n",
    "                 [1, 9, 1],\n",
    "                 [1, 10, 1],\n",
    "                 [2, 3, -1],\n",
    "                 [2, 4, 1],\n",
    "                 [2, 5, -1],\n",
    "                 [2, 6, -1],\n",
    "                 [2, 7, -1],\n",
    "                 [2, 8, 1],\n",
    "                 [2, 9, -1],\n",
    "                 [2, 10, -1],\n",
    "                 [3, 4, 1],\n",
    "                 [3, 5, -1],\n",
    "                 [3, 6, 1],\n",
    "                 [3, 7, 1],\n",
    "                 [3, 8, 1],\n",
    "                 [3, 9, -1],\n",
    "                 [3, 10, 1],\n",
    "                 [4, 5, -1],\n",
    "                 [4, 6, -1],\n",
    "                 [4, 7, -1],\n",
    "                 [4, 8, 1],\n",
    "                 [4, 9, -1],\n",
    "                 [4, 10, -1],\n",
    "                 [5, 6, -1],\n",
    "                 [5, 7, 1],\n",
    "                 [5, 8, 1],\n",
    "                 [5, 9, 1],\n",
    "                 [5, 10, 1],\n",
    "                 [6, 7, 1],\n",
    "                 [6, 8, 1],\n",
    "                 [6, 9, 1],\n",
    "                 [6, 10, 1],\n",
    "                 [7, 8, 1],\n",
    "                 [7, 9, -1],\n",
    "                 [7, 10, 1],\n",
    "                 [8, 9, -1],\n",
    "                 [8, 10, -1],\n",
    "                 [9, 10, 1]])"
   ]
  },
  {
   "cell_type": "code",
   "execution_count": 12,
   "metadata": {},
   "outputs": [
    {
     "data": {
      "text/plain": [
       "array([1., 1., 1., 1., 1., 1., 1., 1., 1., 1., 1., 1., 1., 1., 1., 1., 1.,\n",
       "       1., 1., 1., 1., 1., 1., 1., 1., 1., 1., 1., 1., 1., 1., 1., 1., 1.,\n",
       "       1., 1., 1., 1., 1., 1., 1., 1., 1., 1., 1.])"
      ]
     },
     "execution_count": 12,
     "metadata": {},
     "output_type": "execute_result"
    }
   ],
   "source": [
    "np.ones([45,])"
   ]
  },
  {
   "cell_type": "code",
   "execution_count": 15,
   "metadata": {},
   "outputs": [
    {
     "data": {
      "text/plain": [
       "11.430294646964965"
      ]
     },
     "execution_count": 15,
     "metadata": {},
     "output_type": "execute_result"
    }
   ],
   "source": [
    "import scipy.sparse as sp\n",
    "import cvxpy as cp\n",
    "from scipy.special import log_ndtr\n",
    "\n",
    "            \n",
    "\n",
    "# Form adjacency matrix\n",
    "A1 = sp.coo_matrix((train[:, 2], (range(m), train[:, 0]-np.ones([45,]))), shape=(m, n))\n",
    "A2 = sp.coo_matrix((train[:, 2], (range(m), train[:, 1]-np.ones([45,]))), shape=(m, n))\n",
    "A = (A1 - A2).toarray()\n",
    "\n",
    "# Estimate abilities\n",
    "a_hat = cp.Variable(n)\n",
    "objective = cp.Minimize(-cp.sum(cp.log_normcdf(A @ a_hat / sigma)))\n",
    "constraints = [0 <= a_hat, a_hat <= 1]\n",
    "problem = cp.Problem(objective, constraints)\n",
    "problem.solve()"
   ]
  },
  {
   "cell_type": "code",
   "execution_count": 17,
   "metadata": {},
   "outputs": [
    {
     "data": {
      "text/plain": [
       "array([ 1.00000000e+00, -3.07024986e-21,  6.78273774e-01,  3.68704618e-01,\n",
       "        7.90021663e-01,  5.81306405e-01,  3.87382448e-01,  8.54414113e-02,\n",
       "        6.70046253e-01,  5.77486181e-01])"
      ]
     },
     "execution_count": 17,
     "metadata": {},
     "output_type": "execute_result"
    }
   ],
   "source": [
    "a=a_hat.value\n",
    "a"
   ]
  },
  {
   "cell_type": "code",
   "execution_count": 19,
   "metadata": {},
   "outputs": [],
   "source": [
    "import scipy.sparse as sp\n",
    "import numpy as np\n",
    "\n",
    "# Sparse matrix A_test\n",
    "A1_test = sp.csr_matrix((np.ones(m_test), (range(m_test), test[:, 0]-1)), shape=(m_test, n))\n",
    "A2_test = sp.csr_matrix((np.ones(m_test)*-1, (range(m_test), test[:, 1]-1)), shape=(m_test, n))\n",
    "A_test = A1_test + A2_test\n",
    "\n",
    "# Prediction and error rate calculation\n",
    "res = np.sign(A_test.dot(a_hat.value))\n",
    "Pml = 1 - np.count_nonzero(res - test[:, 2]) / m_test\n",
    "Ply = 1 - np.count_nonzero(train[:, 2] - test[:, 2]) / m_test"
   ]
  },
  {
   "cell_type": "code",
   "execution_count": 21,
   "metadata": {},
   "outputs": [
    {
     "data": {
      "text/plain": [
       "(0.8666666666666667, 0.7555555555555555)"
      ]
     },
     "execution_count": 21,
     "metadata": {},
     "output_type": "execute_result"
    }
   ],
   "source": [
    "Pml,Ply"
   ]
  }
 ],
 "metadata": {
  "kernelspec": {
   "display_name": "Python 3",
   "language": "python",
   "name": "python3"
  },
  "language_info": {
   "codemirror_mode": {
    "name": "ipython",
    "version": 3
   },
   "file_extension": ".py",
   "mimetype": "text/x-python",
   "name": "python",
   "nbconvert_exporter": "python",
   "pygments_lexer": "ipython3",
   "version": "3.10.5"
  },
  "orig_nbformat": 4
 },
 "nbformat": 4,
 "nbformat_minor": 2
}
