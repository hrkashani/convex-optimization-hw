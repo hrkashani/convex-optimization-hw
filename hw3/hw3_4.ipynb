{
 "cells": [
  {
   "cell_type": "code",
   "execution_count": 1,
   "metadata": {},
   "outputs": [],
   "source": [
    "import numpy as np\n",
    "import cvxpy as cvx\n",
    "import matplotlib.pyplot as plt\n",
    "np.random.seed(0)\n",
    "(m, n) = (300, 100)\n",
    "A = np.random.rand(m, n)\n",
    "b = A.dot(np.ones((n, 1)))/2\n",
    "c = -np.random.rand(n, 1)"
   ]
  },
  {
   "cell_type": "code",
   "execution_count": 2,
   "metadata": {},
   "outputs": [
    {
     "name": "stderr",
     "output_type": "stream",
     "text": [
      "c:\\Users\\Latitude 5289 2-in-1\\AppData\\Local\\Programs\\Python\\Python310\\lib\\site-packages\\cvxpy\\expressions\\expression.py:612: UserWarning: \n",
      "This use of ``*`` has resulted in matrix multiplication.\n",
      "Using ``*`` for matrix multiplication has been deprecated since CVXPY 1.1.\n",
      "    Use ``*`` for matrix-scalar and vector-scalar multiplication.\n",
      "    Use ``@`` for matrix-matrix and matrix-vector multiplication.\n",
      "    Use ``multiply`` for elementwise multiplication.\n",
      "This code path has been hit 1 times so far.\n",
      "\n",
      "  warnings.warn(msg, UserWarning)\n",
      "c:\\Users\\Latitude 5289 2-in-1\\AppData\\Local\\Programs\\Python\\Python310\\lib\\site-packages\\cvxpy\\expressions\\expression.py:612: UserWarning: \n",
      "This use of ``*`` has resulted in matrix multiplication.\n",
      "Using ``*`` for matrix multiplication has been deprecated since CVXPY 1.1.\n",
      "    Use ``*`` for matrix-scalar and vector-scalar multiplication.\n",
      "    Use ``@`` for matrix-matrix and matrix-vector multiplication.\n",
      "    Use ``multiply`` for elementwise multiplication.\n",
      "This code path has been hit 2 times so far.\n",
      "\n",
      "  warnings.warn(msg, UserWarning)\n"
     ]
    },
    {
     "data": {
      "text/plain": [
       "(-34.41722425996278, (100,))"
      ]
     },
     "execution_count": 2,
     "metadata": {},
     "output_type": "execute_result"
    }
   ],
   "source": [
    "#Solve relaxed LP\n",
    "x = cvx.Variable(n)\n",
    "objective = cvx.Minimize(c.T*x)\n",
    "constraints = [0<=x, x<=1,A*x<=b.reshape(300,)]\n",
    "cvx.Problem(objective, constraints).solve()\n",
    "L = objective.value\n",
    "x_rlx = x.value\n",
    "L,x_rlx.shape"
   ]
  },
  {
   "cell_type": "code",
   "execution_count": 3,
   "metadata": {},
   "outputs": [],
   "source": [
    "#Rounding parameters\n",
    "N = 100\n",
    "t = np.linspace(0, 1, num=N).reshape(N, 1)\n",
    "maxviol = np.zeros((N, 1))\n",
    "obj = np.zeros((N, 1))\n",
    "U = float('inf')\n",
    "t_best = float('nan')"
   ]
  },
  {
   "cell_type": "code",
   "execution_count": 4,
   "metadata": {},
   "outputs": [],
   "source": [
    "#Round\n",
    "for i in range(N):\n",
    "    x = np.array(x_rlx >= t[i], dtype = float)\n",
    "    obj[i] = c.T@x\n",
    "    maxviol[i] = max(A@x.reshape(100,1)-b)\n",
    "    if maxviol[i]<=0 and obj[i]<U:\n",
    "        U = float(obj[i])\n",
    "        x_best = x\n",
    "        t_best = t[i]"
   ]
  },
  {
   "cell_type": "code",
   "execution_count": 8,
   "metadata": {},
   "outputs": [
    {
     "name": "stdout",
     "output_type": "stream",
     "text": [
      "the upper bound is : -33.57725134530702 \n",
      " the lower bound is : -34.41722425996278 \n",
      " the best x is :\n",
      " [1. 1. 0. 1. 1. 1. 1. 1. 0. 0. 0. 0. 0. 0. 1. 1. 0. 0. 1. 0. 0. 0. 1. 0.\n",
      " 1. 0. 1. 1. 0. 0. 0. 1. 1. 1. 1. 0. 0. 1. 0. 0. 1. 1. 1. 0. 1. 0. 0. 0.\n",
      " 0. 0. 1. 1. 1. 1. 1. 0. 1. 0. 1. 0. 0. 0. 1. 0. 1. 1. 0. 1. 0. 1. 0. 1.\n",
      " 1. 0. 1. 0. 0. 0. 0. 0. 1. 0. 0. 1. 1. 1. 1. 0. 0. 0. 0. 0. 0. 0. 0. 0.\n",
      " 0. 0. 1. 0.] \n",
      " the t best is : [0.55555556]\n"
     ]
    }
   ],
   "source": [
    "print('the upper bound is :',U,'\\n','the lower bound is :',L,'\\n', \"the best x is :\\n\",x_best,'\\n',\"the t best is :\",t_best)"
   ]
  },
  {
   "cell_type": "code",
   "execution_count": 9,
   "metadata": {},
   "outputs": [
    {
     "data": {
      "image/png": "[encoded data removed]",
      "text/plain": [
       "<Figure size 640x480 with 2 Axes>"
      ]
     },
     "metadata": {},
     "output_type": "display_data"
    }
   ],
   "source": [
    "#Plot\n",
    "plt.figure(1)\n",
    "plt.subplot(211)\n",
    "plt.plot(t[maxviol<=0], maxviol[maxviol<=0], 'b')\n",
    "plt.plot(t[maxviol>0], maxviol[maxviol>0], 'r')\n",
    "plt.ylabel('max violation')\n",
    "plt.xlabel('threshold')\n",
    "plt.subplot(212)\n",
    "plt.plot(t[maxviol<=0], obj[maxviol<=0], 'b')\n",
    "plt.plot(t[maxviol>0], obj[maxviol>0], 'r')\n",
    "plt.plot(t,objective.value*np.ones((N,1)), 'g')\n",
    "plt.ylabel('objective')\n",
    "plt.xlabel('threshold')\n",
    "plt.savefig('boolean_lp_heur_py.eps')\n",
    "plt.show()"
   ]
  }
 ],
 "metadata": {
  "kernelspec": {
   "display_name": "Python 3",
   "language": "python",
   "name": "python3"
  },
  "language_info": {
   "codemirror_mode": {
    "name": "ipython",
    "version": 3
   },
   "file_extension": ".py",
   "mimetype": "text/x-python",
   "name": "python",
   "nbconvert_exporter": "python",
   "pygments_lexer": "ipython3",
   "version": "3.10.5"
  },
  "orig_nbformat": 4,
  "vscode": {
   "interpreter": {
    "hash": "469f34db35adf4c5127df65b712101ad225de3355214c6476d46d5035e64d4e0"
   }
  }
 },
 "nbformat": 4,
 "nbformat_minor": 2
}
