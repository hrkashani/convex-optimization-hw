{
 "cells": [
  {
   "cell_type": "code",
   "execution_count": 7,
   "metadata": {},
   "outputs": [
    {
     "name": "stdout",
     "output_type": "stream",
     "text": [
      "With obj. x1+x2, p* is 0.60, optimal x1 is 0.40, optimal x2 is 0.20\n",
      "With obj. -x1-x2, status is unbounded\n",
      "With obj. x1, p* is -0.00, x1* is -0.00, x2* is 1.55\n",
      "With obj. max(x1,x2), p* is 0.33, x1* is 0.33, x2* is 0.33\n",
      "With obj. x1^2+9x2^2, p* is 0.50, x1* is 0.50, x2* is 0.17\n"
     ]
    }
   ],
   "source": [
    "import cvxpy as cvx\n",
    "import numpy as np\n",
    "x1 = cvx.Variable()\n",
    "x2 = cvx.Variable()\n",
    "constraints = [2*x1 + x2 >= 1, x1 + 3*x2 >= 1, x1 >= 0, x2 >= 0]\n",
    "\n",
    "# (a)\n",
    "objective = cvx.Minimize(x1+x2)\n",
    "prob = cvx.Problem(objective, constraints)\n",
    "prob.solve()\n",
    "print ('With obj. x1+x2, p* is %.2f, optimal x1 is %.2f, optimal x2 is %.2f' \\\n",
    "% (prob.value, x1.value, x2.value))\n",
    "# (b)\n",
    "objective = cvx.Minimize(-x1-x2)\n",
    "prob = cvx.Problem(objective, constraints)\n",
    "prob.solve()\n",
    "print ('With obj. -x1-x2, status is ' + prob.status)\n",
    "# (c)\n",
    "objective = cvx.Minimize(x1)\n",
    "prob = cvx.Problem(objective, constraints)\n",
    "prob.solve()\n",
    "print ('With obj. x1, p* is %.2f, x1* is %.2f, x2* is %.2f' \\\n",
    "% (prob.value, x1.value, x2.value))\n",
    "# (d)\n",
    "objective = cvx.Minimize(cvx.maximum(x1, x2))\n",
    "prob = cvx.Problem(objective, constraints)\n",
    "prob.solve()\n",
    "print ('With obj. max(x1,x2), p* is %.2f, x1* is %.2f, x2* is %.2f' \\\n",
    "% (prob.value, x1.value, x2.value))\n",
    "# (e)\n",
    "objective = cvx.Minimize(cvx.square(x1) + 9*cvx.square(x2))\n",
    "prob = cvx.Problem(objective, constraints)\n",
    "prob.solve()\n",
    "print ('With obj. x1^2+9x2^2, p* is %.2f, x1* is %.2f, x2* is %.2f' \\\n",
    "% (prob.value, x1.value, x2.value))"
   ]
  }
 ],
 "metadata": {
  "kernelspec": {
   "display_name": "Python 3",
   "language": "python",
   "name": "python3"
  },
  "language_info": {
   "codemirror_mode": {
    "name": "ipython",
    "version": 3
   },
   "file_extension": ".py",
   "mimetype": "text/x-python",
   "name": "python",
   "nbconvert_exporter": "python",
   "pygments_lexer": "ipython3",
   "version": "3.10.5"
  },
  "orig_nbformat": 4
 },
 "nbformat": 4,
 "nbformat_minor": 2
}
