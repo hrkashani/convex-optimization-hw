{
  "cells": [
    {
      "attachments": {},
      "cell_type": "markdown",
      "metadata": {},
      "source": [
        "Another method:"
      ]
    },
    {
      "cell_type": "code",
      "execution_count": 22,
      "metadata": {
        "id": "k_PJcW5DDmMR"
      },
      "outputs": [],
      "source": [
        "import numpy as np\n",
        "import cvxpy as cp\n",
        "\n",
        "n = 7\n",
        "L1 = np.array(\n",
        "    [[0., 90, 0, 3, 79, 0, 0],\n",
        "     [57, 0, 69, 37, 0, 94, 56],\n",
        "     [79, 53, 0, 0, 0, 0, 0],\n",
        "     [0, 0, 1, 0, 0, 73, 20],\n",
        "     [0, 0, 42, 0, 0, 0, 90],\n",
        "     [0, 34, 0, 0, 13, 0, 0],\n",
        "     [38, 0, 0, 94, 85, 22, 0]]\n",
        ")\n",
        "c1 = np.array([10., 146., 30., 10., 10., 10., 83.])\n",
        "\n",
        "np.testing.assert_array_less(L1 @ np.ones(n) - L1.T @ np.ones(n), c1)"
      ]
    },
    {
      "cell_type": "code",
      "execution_count": 23,
      "metadata": {
        "colab": {
          "base_uri": "https://localhost:8080/",
          "height": 235
        },
        "id": "VdKsqsGM2_yZ",
        "outputId": "019d389d-a9cb-41e0-f4b7-1bb05dcbcbb7"
      },
      "outputs": [
        {
          "name": "stdout",
          "output_type": "stream",
          "text": [
            "meghdar minimum T brabar 5 ast\n"
          ]
        }
      ],
      "source": [
        "for T in range(1,6):\n",
        "  L_boyd = [cp.Variable((n,n)) for i in range(T)]\n",
        "  C_boyd = [cp.Variable((n,1)) for i in range(T)]\n",
        "  P_boyd = [cp.Variable((n,n)) for i in range(T)]\n",
        "  constraints_boyd_khol = [L_boyd[0] == L1]\n",
        "  constraints_boyd_khol = constraints_boyd_khol+[L_boyd[i] == L_boyd[i-1] - P_boyd[i-1] for i in range(1,T)]\n",
        "  constraints_boyd_khol = constraints_boyd_khol+[C_boyd[0] == c1.reshape((n,1))]\n",
        "  constraints_boyd_khol = constraints_boyd_khol+[C_boyd[i] == C_boyd[i-1] - P_boyd[i-1] @ np.ones((n,1)) + (P_boyd[i-1]).T @ np.ones((n,1)) for i in range(1,T)]\n",
        "  constraints_boyd_khol = constraints_boyd_khol+[L_boyd[T-1] == 0]\n",
        "  constraints_boyd_khol = constraints_boyd_khol+[P_boyd[i] @ np.ones((n,1)) <= C_boyd[i] for i in range(T)]\n",
        "  constraints_boyd_khol = constraints_boyd_khol+[L_boyd[i] >= 0 for i in range(1,T)]\n",
        "  constraints_boyd_khol = constraints_boyd_khol+[C_boyd[i] >= 0 for i in range(1,T)]\n",
        "  constraints_boyd_khol = constraints_boyd_khol+[P_boyd[i] >= 0 for i in range(T)]\n",
        "  obj = cp.Minimize(0)\n",
        "  problem = cp.Problem(obj, constraints_boyd_khol)\n",
        "  problem.solve()\n",
        "  if(np.array([L_boyd[-1].value!= None])).all():\n",
        "    print('meghdar minimum T brabar %i ast'%(T))    \n",
        "    break\n",
        "  \n"
      ]
    },
    {
      "cell_type": "code",
      "execution_count": 24,
      "metadata": {},
      "outputs": [
        {
          "data": {
            "text/plain": [
              "array([[0., 0., 0., 0., 0., 0., 0.],\n",
              "       [0., 0., 0., 0., 0., 0., 0.],\n",
              "       [0., 0., 0., 0., 0., 0., 0.],\n",
              "       [0., 0., 0., 0., 0., 0., 0.],\n",
              "       [0., 0., 0., 0., 0., 0., 0.],\n",
              "       [0., 0., 0., 0., 0., 0., 0.],\n",
              "       [0., 0., 0., 0., 0., 0., 0.]], dtype=float16)"
            ]
          },
          "execution_count": 24,
          "metadata": {},
          "output_type": "execute_result"
        }
      ],
      "source": [
        "L_boyd[-1].value.astype('float16')"
      ]
    },
    {
      "attachments": {},
      "cell_type": "markdown",
      "metadata": {},
      "source": [
        "our method (که البته غلطه)"
      ]
    },
    {
      "cell_type": "code",
      "execution_count": null,
      "metadata": {
        "colab": {
          "base_uri": "https://localhost:8080/"
        },
        "id": "U9RsKnN-F38V",
        "outputId": "c2dd332c-5921-49d6-c551-60c9d18dd2b3"
      },
      "outputs": [
        {
          "data": {
            "text/plain": [
              "array([[False,  True, False,  True,  True, False, False],\n",
              "       [ True, False,  True,  True, False,  True,  True],\n",
              "       [ True,  True, False, False, False, False, False],\n",
              "       [False, False,  True, False, False,  True,  True],\n",
              "       [False, False,  True, False, False, False,  True],\n",
              "       [False,  True, False, False,  True, False, False],\n",
              "       [ True, False, False,  True,  True,  True, False]])"
            ]
          },
          "execution_count": 2,
          "metadata": {},
          "output_type": "execute_result"
        }
      ],
      "source": [
        "np.greater(L1,0)"
      ]
    },
    {
      "cell_type": "code",
      "execution_count": null,
      "metadata": {
        "colab": {
          "base_uri": "https://localhost:8080/"
        },
        "id": "wCujQgEAJeBv",
        "outputId": "064e4863-4a13-410c-9c86-c5b2f1b6f582"
      },
      "outputs": [
        {
          "name": "stdout",
          "output_type": "stream",
          "text": [
            "False\n"
          ]
        }
      ],
      "source": [
        "print((L1 != np.zeros((7,7))).all())"
      ]
    },
    {
      "cell_type": "code",
      "execution_count": null,
      "metadata": {
        "colab": {
          "base_uri": "https://localhost:8080/"
        },
        "id": "hhIDksd0EflS",
        "outputId": "b143ba77-748a-4484-cee2-09aef3d8cec1"
      },
      "outputs": [
        {
          "name": "stdout",
          "output_type": "stream",
          "text": [
            "[[-0. -0. -0. -0. -0. -0. -0.]\n",
            " [ 0.  0.  0.  0.  0.  0.  0.]\n",
            " [ 0.  0.  0.  0.  0.  0.  0.]\n",
            " [-0. -0. -0. -0. -0. -0. -0.]\n",
            " [-0. -0. -0. -0. -0. -0. -0.]\n",
            " [-0. -0. -0. -0. -0. -0. -0.]\n",
            " [ 0.  0.  0.  0.  0.  0.  0.]]\n",
            "161\n"
          ]
        }
      ],
      "source": [
        "t = 1\n",
        "lt = L1\n",
        "ct = c1 \n",
        "l85 = []\n",
        "while (lt.astype('float16') != np.zeros((n,n))).any():\n",
        "  t += 1\n",
        "  p = cp.Variable((n,n))\n",
        "  objective = cp.Maximize(cp.min(p@np.ones((n,1))))\n",
        "  constraints = [p@np.ones((n,1)) <= ct.reshape((n,1)),\n",
        "                 lt - p >= 0]\n",
        "  problem = cp.Problem(objective, constraints)\n",
        "  result = problem.solve()\n",
        "  lt = lt - p.value\n",
        "  l85.append(lt@np.ones((n,1))) \n",
        "  ct = ct.reshape((n,1)) - p.value @ np.ones((n,1)) + p.value.T @ np.ones((n,1))\n",
        "print(lt.astype('float16'))\n",
        "print(t)\n",
        "l85 = np.array(l85)\n",
        "\n",
        "\n"
      ]
    },
    {
      "cell_type": "code",
      "execution_count": null,
      "metadata": {
        "colab": {
          "base_uri": "https://localhost:8080/"
        },
        "id": "14_869B_PXry",
        "outputId": "f1a140f9-44c4-419e-9b82-c0424bb136c3"
      },
      "outputs": [
        {
          "data": {
            "text/plain": [
              "array([[172.],\n",
              "       [313.],\n",
              "       [132.],\n",
              "       [ 94.],\n",
              "       [132.],\n",
              "       [ 47.],\n",
              "       [239.]])"
            ]
          },
          "execution_count": 5,
          "metadata": {},
          "output_type": "execute_result"
        }
      ],
      "source": [
        "L1@np.ones((n,1))"
      ]
    },
    {
      "cell_type": "code",
      "execution_count": null,
      "metadata": {
        "colab": {
          "base_uri": "https://localhost:8080/",
          "height": 430
        },
        "id": "Ha6QDa-0R5us",
        "outputId": "e7606f6d-8f41-4123-f600-8236bf6f311c"
      },
      "outputs": [
        {
          "data": {
            "image/png": "[encoded data removed]",
            "text/plain": [
              "<Figure size 640x480 with 1 Axes>"
            ]
          },
          "metadata": {},
          "output_type": "display_data"
        }
      ],
      "source": [
        "A = [l85[i][0] for i in range(160)]\n",
        "import matplotlib.pyplot as plt\n",
        "plt.plot(A)\n",
        "plt.show()\n"
      ]
    },
    {
      "cell_type": "code",
      "execution_count": null,
      "metadata": {
        "colab": {
          "base_uri": "https://localhost:8080/"
        },
        "id": "NUkMJqmTqE05",
        "outputId": "101902fd-0078-4f4b-f9f6-7fddf4d54969"
      },
      "outputs": [
        {
          "data": {
            "text/plain": [
              "array([0.009346], dtype=float16)"
            ]
          },
          "execution_count": 16,
          "metadata": {},
          "output_type": "execute_result"
        }
      ],
      "source": [
        "A[67].astype('float16')"
      ]
    },
    {
      "cell_type": "code",
      "execution_count": null,
      "metadata": {
        "colab": {
          "base_uri": "https://localhost:8080/"
        },
        "id": "3w1eQsSnMrji",
        "outputId": "e0af6776-d670-41bd-d59d-1febfa417dbc"
      },
      "outputs": [
        {
          "data": {
            "text/plain": [
              "matrix([[ 1.62000000e+02,  1.52513000e+02,  1.26789883e+02,\n",
              "          9.61763969e+01,  7.65729441e+01,  5.70969705e+01,\n",
              "          4.22872888e+01,  3.57072033e+01,  3.04512549e+01,\n",
              "          2.48400420e+01,  2.04550797e+01,  1.68767163e+01,\n",
              "          1.38439295e+01,  1.14497309e+01,  9.52736697e+00,\n",
              "          8.02776207e+00,  6.89923420e+00,  6.08802991e+00,\n",
              "          5.52435589e+00,  5.12597946e+00,  4.76516143e+00,\n",
              "          4.43277787e+00,  4.12442085e+00,  3.83514585e+00,\n",
              "          3.56168662e+00,  3.29329963e+00,  3.03004666e+00,\n",
              "          2.77572014e+00,  2.53000888e+00,  2.29435872e+00,\n",
              "          2.07111956e+00,  1.86163222e+00,  1.66657845e+00,\n",
              "          1.48561910e+00,  1.31840687e+00,  1.16473834e+00,\n",
              "          1.02453546e+00,  8.97860869e-01,  7.84396404e-01,\n",
              "          6.83412965e-01,  5.93900851e-01,  5.14639404e-01,\n",
              "          4.44441139e-01,  3.82598310e-01,  3.28518440e-01,\n",
              "          2.81536271e-01,  2.40925278e-01,  2.05957128e-01,\n",
              "          1.75940227e-01,  1.50237432e-01,  1.28271590e-01,\n",
              "          1.09525568e-01,  9.35430698e-02,  7.99247509e-02,\n",
              "          6.83241182e-02,  5.84422904e-02,  5.00226264e-02,\n",
              "          4.28456559e-02,  3.67243319e-02,  3.14996866e-02,\n",
              "          2.70368443e-02,  2.32215348e-02,  1.99570285e-02,\n",
              "          1.71614515e-02,  1.47515584e-02,  1.26736540e-02,\n",
              "          1.08836924e-02,  9.34307447e-03,  8.01804074e-03,\n",
              "          6.87915153e-03,  5.90069324e-03,  5.06057729e-03,\n",
              "          4.33944175e-03,  3.72063201e-03,  3.18977123e-03,\n",
              "          2.73450809e-03,  2.34414540e-03,  2.00945978e-03,\n",
              "          1.72252885e-03,  1.47655182e-03,  1.26569388e-03,\n",
              "          1.08495060e-03,  9.30023622e-04,  7.97169983e-04,\n",
              "          6.83255932e-04,  5.85584527e-04,  5.01890502e-04,\n",
              "          4.30054476e-04,  3.68546008e-04,  3.15738255e-04,\n",
              "          2.70548661e-04,  2.31779268e-04,  1.98510786e-04,\n",
              "          1.70072769e-04,  1.45633742e-04,  1.24763571e-04,\n",
              "          1.06819642e-04,  9.14792245e-05,  7.83427397e-05,\n",
              "          6.70931209e-05,  5.74593756e-05,  4.92115884e-05,\n",
              "          4.21502812e-05,  3.61046615e-05,  3.09534926e-05,\n",
              "          2.65006507e-05,  2.27062413e-05,  1.94824280e-05,\n",
              "          1.66763665e-05,  1.43193537e-05,  1.22532544e-05,\n",
              "          1.05039770e-05,  9.00518108e-06,  7.72102339e-06,\n",
              "          6.62103606e-06,  5.67928394e-06,  4.86330611e-06,\n",
              "          4.16283702e-06,  3.60514934e-06,  3.09382370e-06,\n",
              "          2.65497049e-06,  2.27829762e-06,  1.95498557e-06,\n",
              "          1.63457412e-06,  1.39848493e-06,  1.19245062e-06,\n",
              "          1.06089439e-06,  9.10063905e-07,  7.80664072e-07,\n",
              "          6.69677991e-07,  5.74509175e-07,  4.92913134e-07,\n",
              "          4.22993984e-07,  3.63109914e-07,  3.11850127e-07,\n",
              "          2.67975958e-07,  2.30302259e-07,  1.97956264e-07,\n",
              "          1.70348076e-07,  1.46937910e-07,  8.59900018e-08,\n",
              "          7.22080380e-08,  6.06170322e-08,  5.08117658e-08,\n",
              "          4.24429790e-08,  3.51951308e-08,  2.88046165e-08,\n",
              "          2.30585098e-08,  1.77932204e-08,  1.28924957e-08,\n",
              "          8.28420010e-09,  3.93544564e-09, -3.94837020e-10,\n",
              "         -5.94939517e-09, -1.04147740e-08, -1.39290154e-08,\n",
              "         -1.66117133e-08, -1.85697074e-08, -1.99003839e-08,\n",
              "         -2.06934652e-08]])"
            ]
          },
          "execution_count": 54,
          "metadata": {},
          "output_type": "execute_result"
        }
      ],
      "source": [
        "np.asmatrix(l85).T[0]"
      ]
    }
  ],
  "metadata": {
    "colab": {
      "provenance": []
    },
    "kernelspec": {
      "display_name": "Python 3",
      "name": "python3"
    },
    "language_info": {
      "name": "python"
    }
  },
  "nbformat": 4,
  "nbformat_minor": 0
}
