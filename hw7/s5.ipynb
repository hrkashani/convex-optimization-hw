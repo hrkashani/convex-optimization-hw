{
  "cells": [
    {
      "cell_type": "code",
      "execution_count": 29,
      "metadata": {
        "id": "bwUjn_Q8bKe7"
      },
      "outputs": [],
      "source": [
        "import numpy as np\n",
        "n = 10;\n",
        "alpha = 1;\n",
        "sigma2 = np.array([0.82, 0.91, 0.16, 0.18, 0.28, 0.2, 0.04, 0.07, 0.36, 0.97]);\n",
        "pmin = 0;\n",
        "pmax = 1.5;\n",
        "G = np.array([[13.0, 0.47, 0.84, 0.95, 0.2, 0.05, 0.8, 0.09, 0.48, 0.71], [0.54, 29.0, 0.91, 0.8, 0.87, 0.48, 0.51, 0.95, 0.06, 0.44], [0.26, 0.35, 27.0, 0.12, 0.65, 0.67, 0.39, 0.78, 0.47, 0.28], [0.91, 0.77, 0.72, 11.0, 0.59, 0.84, 0.48, 0.18, 0.38, 0.34], [0.17, 0.04, 0.12, 0.08, 21.0, 0.17, 0.07, 0.08, 0.98, 0.24], [0.66, 0.27, 0.77, 0.78, 0.74, 29.0, 0.48, 0.68, 0.22, 0.07], [0.58, 0.07, 0.8, 0.1, 0.55, 0.78, 18.0, 0.93, 0.86, 0.11], [0.87, 0.16, 0.04, 0.84, 0.48, 0.51, 0.45, 11.0, 0.07, 0.89], [0.97, 0.61, 0.48, 0.18, 0.6, 0.62, 0.64, 0.65, 29.0, 0.51], [0.77, 0.14, 0.9, 0.31, 0.79, 0.31, 0.67, 0.6, 0.85, 23.0]]);"
      ]
    },
    {
      "cell_type": "code",
      "execution_count": 30,
      "metadata": {
        "id": "T8b2cQIxd3mp"
      },
      "outputs": [],
      "source": [
        "import cvxpy as cp\n",
        "p = cp.Variable((n,1), nonneg = True)\n",
        "t = cp.Parameter(nonneg = True)\n",
        "constraints= [p >= pmin,\n",
        "              p <= pmax\n",
        "              ]\n",
        "#constraints = constraints + [(sigma2[i] + cp.sum(cp.vstack([G[i,j] * p[j] for j in  range(n) if i !=j]))) * cp.exp((cp.sum(p)+t)/alpha) - (sigma2[i] + cp.sum(cp.vstack([G[i,j] * p[j] for j in  range(n)]))) <= 0 for i in range(n)]\n",
        "constraints = constraints + [G[i,i]*p[i] >= t*(sigma2[i] + cp.sum(cp.vstack([G[i,j]*p[j] for j in range(n) if j != i]))) for i in range(n)]\n",
        "#t =  cp.min(cp.vstack([cp.log1p((G[i,i]*p[i])/(sigma2[i] + cp.sum(cp.vstack([G[i,j] * p[j] for j in  range(n) if i !=j])))) for i in range(n)]))\n",
        "\n",
        "objective = cp.Minimize(cp.sum(p))\n",
        "problem = cp.Problem(objective, constraints)\n"
      ]
    },
    {
      "cell_type": "code",
      "execution_count": 124,
      "metadata": {
        "id": "7Pt0flqlbK1q"
      },
      "outputs": [],
      "source": [
        "samples = 20\n",
        "t_vals = np.logspace(-0.1,0.595 , num = samples, base = 10)\n",
        "p_values = []\n",
        "for k in range(samples):\n",
        "  t.value = t_vals[k]\n",
        "  problem.solve()\n",
        "  p_values.append(p.value)\n",
        "\n"
      ]
    },
    {
      "cell_type": "code",
      "execution_count": 25,
      "metadata": {
        "colab": {
          "base_uri": "https://localhost:8080/"
        },
        "id": "0WbhZdLleZTX",
        "outputId": "85aecd80-2a76-4230-9aeb-9b850bcc686e"
      },
      "outputs": [
        {
          "data": {
            "text/plain": [
              "array([1.00000000e-04, 1.90084790e-04, 3.61322276e-04, 6.86818691e-04,\n",
              "       1.30553787e-03, 2.48162892e-03, 4.71719914e-03, 8.96667810e-03,\n",
              "       1.70442913e-02, 3.23986054e-02, 6.15848211e-02, 1.17063378e-01,\n",
              "       2.22519677e-01, 4.22976062e-01, 8.04013161e-01, 1.52830673e+00,\n",
              "       2.90507865e+00, 5.52211267e+00, 1.04966963e+01, 1.99526231e+01])"
            ]
          },
          "execution_count": 25,
          "metadata": {},
          "output_type": "execute_result"
        }
      ],
      "source": [
        "t_vals"
      ]
    },
    {
      "cell_type": "code",
      "execution_count": 95,
      "metadata": {
        "colab": {
          "base_uri": "https://localhost:8080/"
        },
        "id": "hdIjuVNWcbLs",
        "outputId": "d6c05345-1e24-43ec-ae88-9dc078a1aa7e"
      },
      "outputs": [
        {
          "data": {
            "text/plain": [
              "[array([[0.05495647],\n",
              "        [0.0276491 ],\n",
              "        [0.00672838],\n",
              "        [0.0211166 ],\n",
              "        [0.01200806],\n",
              "        [0.00798334],\n",
              "        [0.00538328],\n",
              "        [0.01343958],\n",
              "        [0.01315499],\n",
              "        [0.03673259]]),\n",
              " array([[0.0604403 ],\n",
              "        [0.03044891],\n",
              "        [0.00758191],\n",
              "        [0.02393158],\n",
              "        [0.01324373],\n",
              "        [0.00900826],\n",
              "        [0.00632028],\n",
              "        [0.01561359],\n",
              "        [0.0147132 ],\n",
              "        [0.04039091]]),\n",
              " array([[0.06656323],\n",
              "        [0.03358486],\n",
              "        [0.00857509],\n",
              "        [0.02721419],\n",
              "        [0.01463009],\n",
              "        [0.01020263],\n",
              "        [0.00745441],\n",
              "        [0.01820829],\n",
              "        [0.01650221],\n",
              "        [0.04447302]]),\n",
              " array([[0.07342541],\n",
              "        [0.03711193],\n",
              "        [0.00973846],\n",
              "        [0.03106338],\n",
              "        [0.01619174],\n",
              "        [0.01160367],\n",
              "        [0.00883544],\n",
              "        [0.0213211 ],\n",
              "        [0.01856746],\n",
              "        [0.04904447]]),\n",
              " array([[0.08115044],\n",
              "        [0.04109844],\n",
              "        [0.01111133],\n",
              "        [0.03560499],\n",
              "        [0.0179591 ],\n",
              "        [0.01325924],\n",
              "        [0.01052827],\n",
              "        [0.02507696],\n",
              "        [0.02096642],\n",
              "        [0.05418598]]),\n",
              " array([[0.08989325],\n",
              "        [0.04563064],\n",
              "        [0.012745  ],\n",
              "        [0.04100119],\n",
              "        [0.01997035],\n",
              "        [0.01523178],\n",
              "        [0.01261866],\n",
              "        [0.02963803],\n",
              "        [0.0237728 ],\n",
              "        [0.05999843]]),\n",
              " array([[0.09985175],\n",
              "        [0.0508194 ],\n",
              "        [0.01470745],\n",
              "        [0.04746416],\n",
              "        [0.02227425],\n",
              "        [0.017604  ],\n",
              "        [0.01522145],\n",
              "        [0.03521782],\n",
              "        [0.02708268],\n",
              "        [0.06661024]]),\n",
              " array([[0.11128393],\n",
              "        [0.05681016],\n",
              "        [0.01709039],\n",
              "        [0.05527648],\n",
              "        [0.02493433],\n",
              "        [0.02048736],\n",
              "        [0.01849299],\n",
              "        [0.04210221],\n",
              "        [0.03102357],\n",
              "        [0.07418836]]),\n",
              " array([[0.12453432],\n",
              "        [0.0637982 ],\n",
              "        [0.02002007],\n",
              "        [0.06482238],\n",
              "        [0.02803526],\n",
              "        [0.0240352 ],\n",
              "        [0.02265025],\n",
              "        [0.05068151],\n",
              "        [0.03576843],\n",
              "        [0.08295501]]),\n",
              " array([[0.14007582],\n",
              "        [0.07205295],\n",
              "        [0.02367448],\n",
              "        [0.07663721],\n",
              "        [0.03169296],\n",
              "        [0.02846354],\n",
              "        [0.02800123],\n",
              "        [0.06150138],\n",
              "        [0.04155771],\n",
              "        [0.09321428]]),\n",
              " array([[0.15857891],\n",
              "        [0.08195797],\n",
              "        [0.02831187],\n",
              "        [0.09148921],\n",
              "        [0.03607127],\n",
              "        [0.03408549],\n",
              "        [0.03499522],\n",
              "        [0.07534662],\n",
              "        [0.0487359 ],\n",
              "        [0.10539605]]),\n",
              " array([[0.18103119],\n",
              "        [0.09408023],\n",
              "        [0.03431998],\n",
              "        [0.11052055],\n",
              "        [0.04141063],\n",
              "        [0.04137081],\n",
              "        [0.04430987],\n",
              "        [0.09338583],\n",
              "        [0.05781452],\n",
              "        [0.12013182]]),\n",
              " array([[0.20895643],\n",
              "        [0.10929684],\n",
              "        [0.04230628],\n",
              "        [0.1355057 ],\n",
              "        [0.04808061],\n",
              "        [0.051055  ],\n",
              "        [0.05701072],\n",
              "        [0.11743605],\n",
              "        [0.06958749],\n",
              "        [0.13839353]]),\n",
              " array([[0.24484465],\n",
              "        [0.12904384],\n",
              "        [0.05327532],\n",
              "        [0.16935843],\n",
              "        [0.05668285],\n",
              "        [0.06435349],\n",
              "        [0.07486448],\n",
              "        [0.1504817 ],\n",
              "        [0.08535747],\n",
              "        [0.1617661 ]]),\n",
              " array([[0.2930761 ],\n",
              "        [0.15585066],\n",
              "        [0.06900944],\n",
              "        [0.21722069],\n",
              "        [0.06827205],\n",
              "        [0.08342189],\n",
              "        [0.10101217],\n",
              "        [0.19778884],\n",
              "        [0.107422  ],\n",
              "        [0.19303263]]),\n",
              " array([[0.36215671],\n",
              "        [0.1946327 ],\n",
              "        [0.09299013],\n",
              "        [0.28909659],\n",
              "        [0.08489038],\n",
              "        [0.1124693 ],\n",
              "        [0.14159757],\n",
              "        [0.26959968],\n",
              "        [0.14024925],\n",
              "        [0.23759022]]),\n",
              " array([[0.47110902],\n",
              "        [0.25638656],\n",
              "        [0.13303163],\n",
              "        [0.40738198],\n",
              "        [0.11109474],\n",
              "        [0.16094118],\n",
              "        [0.21042263],\n",
              "        [0.3888342 ],\n",
              "        [0.19383891],\n",
              "        [0.30749691]]),\n",
              " array([[0.67307328],\n",
              "        [0.37183492],\n",
              "        [0.21100609],\n",
              "        [0.63466906],\n",
              "        [0.15959588],\n",
              "        [0.25527264],\n",
              "        [0.34613857],\n",
              "        [0.61952809],\n",
              "        [0.29613258],\n",
              "        [0.43641612]]),\n",
              " array([[1.19420102],\n",
              "        [0.6717259 ],\n",
              "        [0.42007557],\n",
              "        [1.23737603],\n",
              "        [0.28444354],\n",
              "        [0.50805686],\n",
              "        [0.71341491],\n",
              "        [1.23418603],\n",
              "        [0.5660478 ],\n",
              "        [0.76756381]]),\n",
              " None]"
            ]
          },
          "execution_count": 95,
          "metadata": {},
          "output_type": "execute_result"
        }
      ],
      "source": [
        "p_values"
      ]
    },
    {
      "cell_type": "code",
      "execution_count": 125,
      "metadata": {
        "colab": {
          "base_uri": "https://localhost:8080/"
        },
        "id": "mSI01DMWgzlq",
        "outputId": "0734a8e1-1f2a-4ec9-8e07-1ff9f03eacb1"
      },
      "outputs": [
        {
          "name": "stdout",
          "output_type": "stream",
          "text": [
            "[0.19915238272633382, 0.2215210318488774, 0.24701563325405188, 0.2762264426218523, 0.309897282647217, 0.34897893197753604, 0.39470647030006445, 0.44871413705198837, 0.5132108025550983, 0.5912569750683853, 0.6872192187708437, 0.807550407877127, 0.9622054220938119, 1.1673909426481373, 1.4513894628683395, 1.8683857388092058, 2.536934663456013, 3.7759559824444153, 6.837809729927388]\n"
          ]
        }
      ],
      "source": [
        "sigma_p = []\n",
        "for i in range(19):\n",
        "  sigma_p.append(np.sum(p_values[i]))\n",
        "print(sigma_p)"
      ]
    },
    {
      "cell_type": "code",
      "execution_count": 126,
      "metadata": {
        "id": "JAh9OoQ0pRIe"
      },
      "outputs": [],
      "source": [
        "rate = [min([np.log2(((G[i,i]*p_values[K][i]) / (sigma2[i] + np.sum(np.vstack([G[i,j]*p_values[K][j] for j in range(n) if j != i]))))[0]+1) for i in range(n)]) for K in range(19)]"
      ]
    },
    {
      "cell_type": "code",
      "execution_count": null,
      "metadata": {
        "id": "aQdyUdBSlhBh"
      },
      "outputs": [],
      "source": [
        "print(rate)"
      ]
    },
    {
      "cell_type": "code",
      "execution_count": 127,
      "metadata": {
        "colab": {
          "base_uri": "https://localhost:8080/",
          "height": 430
        },
        "id": "J3XP1-B4f27t",
        "outputId": "483a6efe-4200-4423-e2e4-48ad4e4983cf"
      },
      "outputs": [
        {
          "data": {
            "image/png": "[encoded data removed]",
            "text/plain": [
              "<Figure size 640x480 with 1 Axes>"
            ]
          },
          "metadata": {},
          "output_type": "display_data"
        }
      ],
      "source": [
        "import matplotlib.pyplot as plt\n",
        "fig = plt.figure()\n",
        "ax = fig.add_subplot(111)\n",
        "plt.plot(sigma_p[:19], rate[:19], \"g-\")\n",
        "markers = [4,7,12,16]\n",
        "for marker in markers:\n",
        "    plt.plot(sigma_p[marker], rate[marker], \"bs\")\n",
        "    ax.annotate(\n",
        "        r\"$\\gamma = %.2f$\" % t_vals[marker],\n",
        "        xy=(sigma_p[marker] +0.08 , rate[marker] - 0.03),\n",
        "    )\n",
        "plt.show()"
      ]
    }
  ],
  "metadata": {
    "colab": {
      "provenance": []
    },
    "kernelspec": {
      "display_name": "Python 3",
      "name": "python3"
    },
    "language_info": {
      "name": "python"
    }
  },
  "nbformat": 4,
  "nbformat_minor": 0
}
