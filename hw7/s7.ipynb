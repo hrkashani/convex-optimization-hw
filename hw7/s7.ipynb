{
  "cells": [
    {
      "cell_type": "code",
      "execution_count": 4,
      "metadata": {
        "colab": {
          "base_uri": "https://localhost:8080/"
        },
        "id": "h87hJbS7GaZj",
        "outputId": "7a44f3a6-8cc2-49dc-fd86-a9db81f7421e"
      },
      "outputs": [],
      "source": [
        "import cvxpy as cp\n",
        "import numpy as np\n",
        "import math\n"
      ]
    },
    {
      "cell_type": "code",
      "execution_count": 5,
      "metadata": {},
      "outputs": [],
      "source": [
        "A = np.array([[ 1, 1, 0, 0, 0],\n",
        "[ 0, -1, 1, 1, 0],\n",
        "[ 0, 0, 0, -1, 1],\n",
        "[-1, 0, -1, 0, -1]], dtype=np.float64)\n",
        "A = A[0:-1,:]\n",
        "R1 = 1.\n",
        "R2 = 1e3\n",
        "R5 = 1e2\n",
        "VT = 26\n",
        "IS = 1\n",
        "VS = 1e3\n"
      ]
    },
    {
      "cell_type": "code",
      "execution_count": 6,
      "metadata": {},
      "outputs": [
        {
          "name": "stdout",
          "output_type": "stream",
          "text": [
            "===============================================================================\n",
            "                                     CVXPY                                     \n",
            "                                     v1.3.0                                    \n",
            "===============================================================================\n",
            "(CVXPY) May 13 02:18:03 AM: Your problem has 5 variables, 1 constraints, and 0 parameters.\n",
            "(CVXPY) May 13 02:18:03 AM: It is compliant with the following grammars: DCP, DQCP\n",
            "(CVXPY) May 13 02:18:03 AM: (If you need to solve this problem multiple times, but with different data, consider using parameters.)\n",
            "(CVXPY) May 13 02:18:03 AM: CVXPY will first compile your problem; then, it will invoke a numerical solver to obtain a solution.\n",
            "-------------------------------------------------------------------------------\n",
            "                                  Compilation                                  \n",
            "-------------------------------------------------------------------------------\n",
            "(CVXPY) May 13 02:18:03 AM: Compiling problem (target solver=ECOS).\n",
            "(CVXPY) May 13 02:18:03 AM: Reduction chain: Dcp2Cone -> CvxAttr2Constr -> ConeMatrixStuffing -> ECOS\n",
            "(CVXPY) May 13 02:18:03 AM: Applying reduction Dcp2Cone\n",
            "(CVXPY) May 13 02:18:03 AM: Applying reduction CvxAttr2Constr\n",
            "(CVXPY) May 13 02:18:03 AM: Applying reduction ConeMatrixStuffing\n",
            "(CVXPY) May 13 02:18:03 AM: Applying reduction ECOS\n",
            "(CVXPY) May 13 02:18:03 AM: Finished problem compilation (took 3.301e-02 seconds).\n",
            "-------------------------------------------------------------------------------\n",
            "                                Numerical solver                               \n",
            "-------------------------------------------------------------------------------\n",
            "(CVXPY) May 13 02:18:03 AM: Invoking solver ECOS  to obtain a solution.\n",
            "-------------------------------------------------------------------------------\n",
            "                                    Summary                                    \n",
            "-------------------------------------------------------------------------------\n",
            "(CVXPY) May 13 02:18:03 AM: Problem status: optimal\n",
            "(CVXPY) May 13 02:18:03 AM: Optimal value: -4.908e+02\n",
            "(CVXPY) May 13 02:18:03 AM: Compilation took 3.301e-02 seconds\n",
            "(CVXPY) May 13 02:18:03 AM: Solver (including time spent in interface) took 5.247e-03 seconds\n"
          ]
        },
        {
          "name": "stderr",
          "output_type": "stream",
          "text": [
            "c:\\Users\\Latitude 5289 2-in-1\\AppData\\Local\\Programs\\Python\\Python310\\lib\\site-packages\\cvxpy\\expressions\\expression.py:612: UserWarning: \n",
            "This use of ``*`` has resulted in matrix multiplication.\n",
            "Using ``*`` for matrix multiplication has been deprecated since CVXPY 1.1.\n",
            "    Use ``*`` for matrix-scalar and vector-scalar multiplication.\n",
            "    Use ``@`` for matrix-matrix and matrix-vector multiplication.\n",
            "    Use ``multiply`` for elementwise multiplication.\n",
            "This code path has been hit 1 times so far.\n",
            "\n",
            "  warnings.warn(msg, UserWarning)\n"
          ]
        },
        {
          "data": {
            "text/plain": [
              "-490.77819799933167"
            ]
          },
          "execution_count": 6,
          "metadata": {},
          "output_type": "execute_result"
        }
      ],
      "source": [
        "ij = cp.Variable(5)\n",
        "OBJ1 = VS*ij[0] + (1./2)*R1*cp.square(ij[0])\n",
        "OBJ2 = (1./2)*R2*cp.square(ij[1])\n",
        "OBJ3 = VT*IS*(-cp.entr(1. + ij[2]/IS) - ij[2]/IS)\n",
        "OBJ4 = VT*IS*(-cp.entr(1. + ij[3]/IS) - ij[3]/IS)\n",
        "OBJ5 = (1./2)*R5*cp.square(ij[4])\n",
        "obj = cp.Minimize(OBJ1 + OBJ2 + OBJ3 + OBJ4 + OBJ5)\n",
        "constr = [A * ij == 0.]\n",
        "problem = cp.Problem(obj, constr)\n",
        "#problem.solve(verbose=True, solver=SCS, eps=1e-4)\n",
        "problem.solve(verbose=True)\n"
      ]
    },
    {
      "cell_type": "code",
      "execution_count": 8,
      "metadata": {},
      "outputs": [
        {
          "name": "stdout",
          "output_type": "stream",
          "text": [
            "Relative error in voltage: 1.420047e+00\n",
            "\n",
            "[[999.01703386]\n",
            " [982.96613594]\n",
            " [ 16.05094564]\n",
            " [  3.15391948]\n",
            " [ 12.89687387]]\n",
            "[-0.98296614  0.98296614  0.8539974   0.12896874  0.12896874]\n"
          ]
        }
      ],
      "source": [
        "e = -problem.constraints[0].dual_value\n",
        "v = np.array([[VS + R1*float(ij.value[0])],\n",
        "[R2*float(ij.value[1])],\n",
        "[VT*math.log(1. + float(ij.value[2])/IS)],\n",
        "[VT*math.log(1. + float(ij.value[3])/IS)],\n",
        "[R5*float(ij.value[4])]])\n",
        "v_err = v - np.transpose(A) * e\n",
        "rel_err = np.linalg.norm(v_err) / np.linalg.norm(v)\n",
        "print(\"Relative error in voltage: %e\\n\" % rel_err)\n",
        "print(v)\n",
        "print(ij.value)"
      ]
    }
  ],
  "metadata": {
    "colab": {
      "provenance": []
    },
    "kernelspec": {
      "display_name": "Python 3",
      "name": "python3"
    },
    "language_info": {
      "codemirror_mode": {
        "name": "ipython",
        "version": 3
      },
      "file_extension": ".py",
      "mimetype": "text/x-python",
      "name": "python",
      "nbconvert_exporter": "python",
      "pygments_lexer": "ipython3",
      "version": "3.10.5"
    }
  },
  "nbformat": 4,
  "nbformat_minor": 0
}
